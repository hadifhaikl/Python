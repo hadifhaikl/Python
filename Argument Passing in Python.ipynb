{
 "cells": [
  {
   "cell_type": "markdown",
   "id": "e74dbee8",
   "metadata": {},
   "source": [
    "# Positional Argument\n"
   ]
  },
  {
   "cell_type": "code",
   "execution_count": 21,
   "id": "8ef8dd06",
   "metadata": {},
   "outputs": [
    {
     "name": "stdout",
     "output_type": "stream",
     "text": [
      "Alice is enrolled in Mathematics class.\n"
     ]
    }
   ],
   "source": [
    "def student_information(class_name, student_name):\n",
    "    #Display information about a student and their class.\n",
    "    print(student_name + \" is enrolled in \" + class_name + \" class.\")\n",
    "\n",
    "#Positional Arguments:\n",
    "student_information('Mathematics', 'Alice')"
   ]
  },
  {
   "cell_type": "code",
   "execution_count": 5,
   "id": "29d3ccd2",
   "metadata": {},
   "outputs": [
    {
     "name": "stdout",
     "output_type": "stream",
     "text": [
      "Awak taknak balik ke? \n"
     ]
    }
   ],
   "source": [
    "def blabla(soalan, stay_mana):\n",
    "    print(soalan + \" taknak \" + stay_mana + \" ke? \")\n",
    "    \n",
    "blabla('Awak', 'balik')"
   ]
  },
  {
   "cell_type": "markdown",
   "id": "05ed3149",
   "metadata": {},
   "source": [
    "# Keyword argument"
   ]
  },
  {
   "cell_type": "code",
   "execution_count": 4,
   "id": "606a207a",
   "metadata": {},
   "outputs": [
    {
     "name": "stdout",
     "output_type": "stream",
     "text": [
      "Alice is enrolled in Mathematics class.\n"
     ]
    }
   ],
   "source": [
    "def student_information(class_name, student_name):\n",
    "    # Display information about a student and their class.\n",
    "    print(student_name + \" is enrolled in \" + class_name + \" class.\")\n",
    "# Keyword arguments:\n",
    "student_information(student_name='Alice', class_name='Mathematics')\n"
   ]
  },
  {
   "cell_type": "markdown",
   "id": "d3f86770",
   "metadata": {},
   "source": [
    "# function calling"
   ]
  },
  {
   "cell_type": "code",
   "execution_count": 13,
   "id": "ad8b5177",
   "metadata": {
    "scrolled": false
   },
   "outputs": [
    {
     "name": "stdout",
     "output_type": "stream",
     "text": [
      "Ira is enrolled in Python class.\n"
     ]
    }
   ],
   "source": [
    "student_information(student_name=\"Ira\", class_name=\"Python\")"
   ]
  },
  {
   "cell_type": "markdown",
   "id": "31f78b6e",
   "metadata": {},
   "source": [
    "# Default Arguments"
   ]
  },
  {
   "cell_type": "code",
   "execution_count": 10,
   "id": "e9b37a70",
   "metadata": {},
   "outputs": [
    {
     "name": "stdout",
     "output_type": "stream",
     "text": [
      "Student Name: Lina\n",
      "Enrolled Course: Introduction to Python\n",
      "Student Name: Sara\n",
      "Enrolled Course: Data Structures\n"
     ]
    }
   ],
   "source": [
    "def enroll_student(student_name, course='Introduction to Python'):\n",
    "    #Enroll a student in a course with a default option.\n",
    "    print(\"Student Name: \" + student_name)\n",
    "    print(\"Enrolled Course: \" + course)\n",
    "    \n",
    "# Using the default argument for course:\n",
    "enroll_student(student_name='Lina')\n",
    "\n",
    "# Overriding the default argument for course:\n",
    "enroll_student(student_name='Sara', course='Data Structures')\n"
   ]
  },
  {
   "cell_type": "markdown",
   "id": "b5e8eb16",
   "metadata": {},
   "source": [
    "# Variable-length Arguments"
   ]
  },
  {
   "cell_type": "code",
   "execution_count": 6,
   "id": "26af3592",
   "metadata": {},
   "outputs": [
    {
     "name": "stdout",
     "output_type": "stream",
     "text": [
      "Student: ira\n",
      "Enrolled in:\n",
      "- Biology 101\n",
      "- Chemistry 101\n",
      "- Physics 101\n"
     ]
    }
   ],
   "source": [
    "def enroll_in_courses(student_name, *courses):\n",
    "    # Enroll a student in multiple courses.\n",
    "    print(\"Student: \" + student_name)\n",
    "    print(\"Enrolled in:\")\n",
    "    for course in courses:\n",
    "        print(\"- \" + course)\n",
    "# Example of enrolling a student in three different courses:\n",
    "enroll_in_courses('ira', 'Biology 101', 'Chemistry 101', 'Physics 101')\n"
   ]
  },
  {
   "cell_type": "code",
   "execution_count": 12,
   "id": "4954d81b",
   "metadata": {},
   "outputs": [
    {
     "name": "stdout",
     "output_type": "stream",
     "text": [
      "Enrolling Smith with the following details:\n",
      "- Course: Algebra II\n",
      "- Semester: One\n",
      "- Payment Method: Credit Card\n"
     ]
    }
   ],
   "source": [
    "def enroll_student(student_name, **details):\n",
    "     # Enroll a student with additional details.\n",
    "    print(\"Enrolling \" + student_name + \" with the following details:\")\n",
    "    for detail, value in details.items():\n",
    "        print(\"- \" + detail.replace('_', ' ').title() + \": \" + str(value))\n",
    "# Example of enrolling a student with additional details:\n",
    "enroll_student('Smith', course='Algebra II', semester='One', payment_method='Credit Card')\n",
    "\n"
   ]
  },
  {
   "cell_type": "code",
   "execution_count": 1,
   "id": "70295614",
   "metadata": {},
   "outputs": [
    {
     "name": "stdout",
     "output_type": "stream",
     "text": [
      " Checkout Processed by: Sarah Connor\n",
      " Books Checked Out: \n",
      "-1984\n",
      "-Brave New World\n",
      " Checkout Duration: 3 weeks\n",
      "Additional Checkout details by Sarah Connor:\n",
      "- Late Fee: 0.25$\n",
      "- Renewals Allowed: 2\n",
      "- Payment Using: Credit Card\n",
      "Special Conditions for Checkout: \n",
      "Please handle with care , Always place books at safe places , Do not eat and read .\n"
     ]
    }
   ],
   "source": [
    "# Positional Argument\n",
    "def librarian_information(librarian_name):\n",
    "    #Display information about a librarian who processed checkout.\n",
    "    print( \" Checkout Processed by: \" + librarian_name )\n",
    "    \n",
    "#Positional arguments:\n",
    "librarian_information('Sarah Connor')\n",
    "\n",
    "def book_titles(book_name1, book_name2):\n",
    "    #Display the titles of the books to borrow.\n",
    "    print( \" Books Checked Out: \")\n",
    "    print( book_name1 )\n",
    "    print( book_name2 )\n",
    "\n",
    "#Positional arguments:\n",
    "book_titles('-1984', '-Brave New World')\n",
    "\n",
    "#Keyword Argument\n",
    "def checkout_duration(checkout_time):\n",
    "    #Display the default checkout duration.\n",
    "    print(\" Checkout Duration: \" + checkout_time )\n",
    "checkout_duration( checkout_time = \"3 weeks\")\n",
    "\n",
    "#using **kwargs\n",
    "def additional_checkout(librarian_name, **details):\n",
    "     # Process a checkout with additional details.\n",
    "    print( \"Additional Checkout details by \" + librarian_name + \":\")\n",
    "    for detail, value in details.items():\n",
    "        print(\"- \" + detail.replace('_', ' ').title() + \": \" + str(value))\n",
    "additional_checkout('Sarah Connor', late_fee='0.25$', renewals_allowed='2', payment_using='Credit Card')\n",
    "\n",
    "def special_conditions(condition_1, condition_2, condition_3):\n",
    "    print(\"Special Conditions for Checkout: \")\n",
    "    print(\"Please \" + condition_1, \", Always \" + condition_2, \", Do not \" + condition_3, \".\")\n",
    "special_conditions('handle with care', 'place books at safe places', 'eat and read')"
   ]
  }
 ],
 "metadata": {
  "kernelspec": {
   "display_name": "Python 3 (ipykernel)",
   "language": "python",
   "name": "python3"
  },
  "language_info": {
   "codemirror_mode": {
    "name": "ipython",
    "version": 3
   },
   "file_extension": ".py",
   "mimetype": "text/x-python",
   "name": "python",
   "nbconvert_exporter": "python",
   "pygments_lexer": "ipython3",
   "version": "3.11.5"
  }
 },
 "nbformat": 4,
 "nbformat_minor": 5
}
